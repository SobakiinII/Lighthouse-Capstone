{
 "cells": [
  {
   "cell_type": "markdown",
   "metadata": {},
   "source": [
    "# Capstone programming\n",
    "\n",
    "Send a request to YGOproDeck to get the list of all yugioh cards"
   ]
  },
  {
   "cell_type": "code",
   "execution_count": 67,
   "metadata": {},
   "outputs": [],
   "source": [
    "import pandas as pd\n",
    "import json\n",
    "import requests\n",
    "\n",
    "#Requesting the Cards for the OCG format, i.e. the one played in japan \n",
    "response=requests.get(\"https://db.ygoprodeck.com/api/v7/cardinfo.php?format=ocg&misc=yes\")"
   ]
  },
  {
   "cell_type": "code",
   "execution_count": 68,
   "metadata": {},
   "outputs": [
    {
     "name": "stdout",
     "output_type": "stream",
     "text": [
      "{'id': 34541863, 'name': '\"A\" Cell Breeding Device', 'type': 'Spell Card', 'frameType': 'spell', 'desc': 'During each of your Standby Phases, put 1 A-Counter on 1 face-up monster your opponent controls.', 'race': 'Continuous', 'archetype': 'Alien', 'ygoprodeck_url': 'https://ygoprodeck.com/card/a-cell-breeding-device-9766', 'card_sets': [{'set_name': 'Force of the Breaker', 'set_code': 'FOTB-EN043', 'set_rarity': 'Common', 'set_rarity_code': '(C)', 'set_price': '1.31'}], 'card_images': [{'id': 34541863, 'image_url': 'https://images.ygoprodeck.com/images/cards/34541863.jpg', 'image_url_small': 'https://images.ygoprodeck.com/images/cards_small/34541863.jpg', 'image_url_cropped': 'https://images.ygoprodeck.com/images/cards_cropped/34541863.jpg'}], 'card_prices': [{'cardmarket_price': '0.19', 'tcgplayer_price': '0.22', 'ebay_price': '0.99', 'amazon_price': '24.45', 'coolstuffinc_price': '0.25'}], 'misc_info': [{'beta_name': 'A Cell Breeding Device', 'views': 292088, 'viewsweek': 78, 'upvotes': 118, 'downvotes': 110, 'formats': ['Duel Links', 'Common Charity', 'Edison', 'TCG', 'OCG'], 'tcg_date': '2007-05-16', 'ocg_date': '2007-02-15', 'konami_id': 7128, 'has_effect': 1}]}\n"
     ]
    }
   ],
   "source": [
    "print(response.json()['data'][0])"
   ]
  },
  {
   "cell_type": "code",
   "execution_count": 69,
   "metadata": {},
   "outputs": [
    {
     "name": "stdout",
     "output_type": "stream",
     "text": [
      "12576\n"
     ]
    }
   ],
   "source": [
    "print(len(response.json()['data']))\n",
    "cards = response.json()['data']"
   ]
  },
  {
   "cell_type": "code",
   "execution_count": 71,
   "metadata": {},
   "outputs": [
    {
     "name": "stdout",
     "output_type": "stream",
     "text": [
      "12576\n",
      "{'name': 'A Major Upset', 'frame': 'trap', 'card_type': 'Trap Card', 'sub_type': 'Normal', 'cardmarket': '0.08', 'tcgplayer': '0.17', 'word_count': 24, 'adds': False, 'banishes': False, 'negates': False, 'field_wipe': False, 'searches': False, 'recovers': False, 'leave_field_trigger': False, 'send_trigger': False, 'OPT': False, 'release': '2009-04-18'}\n"
     ]
    }
   ],
   "source": [
    "cleaned_cards=[]\n",
    "for card_data in cards:\n",
    "    \n",
    "    effect = card_data['desc'].lower()\n",
    "    \n",
    "    add=False\n",
    "    banish=False\n",
    "    negate=False\n",
    "    wipe=False\n",
    "    search=False\n",
    "    recover=False\n",
    "    leaves=False\n",
    "    sent=False\n",
    "    once=False\n",
    "    \n",
    "\n",
    "    if 'add' in effect:\n",
    "        add=True\n",
    "    if 'banish' in effect:\n",
    "        banish=True\n",
    "    if 'negate' in effect:\n",
    "        negate=True\n",
    "    if 'destroy all' in effect:\n",
    "        des_all=True\n",
    "    if 'from deck' in effect:\n",
    "        search=True\n",
    "    if 'your gy' in effect:\n",
    "        recover=True\n",
    "    if 'leaves the field' in effect:\n",
    "        leaves=True\n",
    "    if 'sent' in effect or 'send' in effect:\n",
    "        sent=True\n",
    "    if 'once per turn' in effect:\n",
    "        once=True\n",
    "        \n",
    "    single_card = {'name':card_data['name'],\n",
    "                'frame':card_data['frameType'],\n",
    "                'card_type':card_data['type'],\n",
    "                'sub_type':card_data['race'],\n",
    "                'cardmarket':card_data['card_prices'][0]['cardmarket_price'],\n",
    "                'tcgplayer':card_data['card_prices'][0]['tcgplayer_price'],\n",
    "                'word_count':len(effect.split()),\n",
    "                'adds':add,\n",
    "                'banishes':banish,\n",
    "                'negates':negate,\n",
    "                'field_wipe':wipe,\n",
    "                'searches':search,\n",
    "                'recovers':recover,\n",
    "                'leave_field_trigger':leaves,\n",
    "                'send_trigger':sent,\n",
    "                'OPT':once,\n",
    "                'release':card_data['misc_info'][0]['ocg_date']}\n",
    "    \n",
    "    cleaned_cards.append(single_card)\n",
    "print(len(cleaned_cards))\n",
    "print(cleaned_cards[0])"
   ]
  },
  {
   "cell_type": "code",
   "execution_count": 72,
   "metadata": {},
   "outputs": [
    {
     "name": "stdout",
     "output_type": "stream",
     "text": [
      "{'name': 'Absorouter Dragon', 'frame': 'effect', 'card_type': 'Effect Monster', 'sub_type': 'Dragon', 'cardmarket': '1.57', 'tcgplayer': '1.68', 'word_count': 59, 'adds': True, 'banishes': False, 'negates': False, 'field_wipe': False, 'searches': False, 'recovers': False, 'leave_field_trigger': False, 'send_trigger': True, 'OPT': True, 'release': '2019-06-22'}\n"
     ]
    }
   ],
   "source": [
    "print(cleaned_cards[57])"
   ]
  },
  {
   "cell_type": "markdown",
   "metadata": {},
   "source": [
    "Now that it's cleaned, my next step is to transfer it into a csv file\n",
    "\n"
   ]
  },
  {
   "cell_type": "code",
   "execution_count": 19,
   "metadata": {},
   "outputs": [],
   "source": [
    "import csv"
   ]
  },
  {
   "cell_type": "code",
   "execution_count": 73,
   "metadata": {},
   "outputs": [],
   "source": [
    "keys = cleaned_cards[0].keys()\n",
    "\n",
    "with open('cardDatasetFinal.csv','w',encoding='utf8',newline='') as file:\n",
    "    dict_writer = csv.DictWriter(file,keys)\n",
    "    dict_writer.writeheader()\n",
    "    dict_writer.writerows(cleaned_cards)"
   ]
  },
  {
   "cell_type": "markdown",
   "metadata": {},
   "source": [
    "I should also get a list of staple cards, cards that could concievably be played in any given deck"
   ]
  },
  {
   "cell_type": "code",
   "execution_count": 74,
   "metadata": {},
   "outputs": [],
   "source": [
    "response=requests.get(\"https://db.ygoprodeck.com/api/v7/cardinfo.php?staple=yes&misc=yes\")"
   ]
  },
  {
   "cell_type": "code",
   "execution_count": 75,
   "metadata": {},
   "outputs": [
    {
     "name": "stdout",
     "output_type": "stream",
     "text": [
      "{'id': 86066372, 'name': 'Accesscode Talker', 'type': 'Link Monster', 'frameType': 'link', 'desc': '2+ Effect Monsters\\r\\nYour opponent cannot activate cards or effects in response to this card\\'s effect activations. If this card is Link Summoned: You can target 1 Link Monster that was used as material for its Link Summon; this card gains ATK equal to that monster\\'s Link Rating x 1000. You can banish 1 Link Monster from your field or GY; destroy 1 card your opponent controls, also for the rest of this turn, you cannot banish monsters with that same Attribute to activate this effect of \"Accesscode Talker\".', 'atk': 2300, 'race': 'Cyberse', 'attribute': 'DARK', 'archetype': 'Code Talker', 'linkval': 4, 'linkmarkers': ['Top', 'Left', 'Bottom', 'Right'], 'ygoprodeck_url': 'https://ygoprodeck.com/card/accesscode-talker-10731', 'card_sets': [{'set_name': 'Battles of Legend: Crystal Revenge', 'set_code': 'BLCR-EN093', 'set_rarity': 'Secret Rare', 'set_rarity_code': '(ScR)', 'set_price': '0'}, {'set_name': 'Battles of Legend: Crystal Revenge', 'set_code': 'BLCR-EN093', 'set_rarity': 'Starlight Rare', 'set_rarity_code': '(StR)', 'set_price': '0'}, {'set_name': 'Eternity Code', 'set_code': 'ETCO-EN046', 'set_rarity': 'Secret Rare', 'set_rarity_code': '(ScR)', 'set_price': '110.32'}, {'set_name': 'Maximum Gold: El Dorado', 'set_code': 'MGED-EN037', 'set_rarity': 'Premium Gold Rare', 'set_rarity_code': '(PG)', 'set_price': '0'}, {'set_name': 'Maximum Gold: El Dorado', 'set_code': 'MGED-EN037', 'set_rarity': 'Premium Gold Rare', 'set_rarity_code': '(PG)', 'set_price': '64.99'}], 'card_images': [{'id': 86066372, 'image_url': 'https://images.ygoprodeck.com/images/cards/86066372.jpg', 'image_url_small': 'https://images.ygoprodeck.com/images/cards_small/86066372.jpg', 'image_url_cropped': 'https://images.ygoprodeck.com/images/cards_cropped/86066372.jpg'}], 'card_prices': [{'cardmarket_price': '19.71', 'tcgplayer_price': '19.59', 'ebay_price': '32.95', 'amazon_price': '1.28', 'coolstuffinc_price': '25.99'}], 'misc_info': [{'staple': 'Yes', 'views': 2885497, 'viewsweek': 4186, 'upvotes': 67, 'downvotes': 6, 'formats': ['TCG', 'OCG'], 'beta_id': 101012046, 'tcg_date': '2020-04-30', 'ocg_date': '2020-01-11', 'konami_id': 15032, 'has_effect': 1}]}\n",
      "64\n"
     ]
    }
   ],
   "source": [
    "print(response.json()['data'][0])\n",
    "print(len(response.json()['data']))\n",
    "staple_cards = response.json()['data']"
   ]
  },
  {
   "cell_type": "code",
   "execution_count": 77,
   "metadata": {},
   "outputs": [
    {
     "name": "stdout",
     "output_type": "stream",
     "text": [
      "64\n",
      "{'name': 'Accesscode Talker', 'frame': 'link', 'card_type': 'Link Monster', 'sub_type': 'Cyberse', 'cardmarket': '19.71', 'tcgplayer': '19.59', 'word_count': 89, 'adds': False, 'banishes': True, 'negates': False, 'field_wipe': False, 'searches': False, 'recovers': False, 'leave_field_trigger': False, 'send_trigger': False, 'OPT': False, 'release': '2020-01-11'}\n"
     ]
    }
   ],
   "source": [
    "cleaned_cards=[]\n",
    "for card_data in staple_cards:\n",
    "    effect = card_data['desc'].lower()\n",
    "    \n",
    "    add=False\n",
    "    banish=False\n",
    "    negate=False\n",
    "    wipe=False\n",
    "    search=False\n",
    "    recover=False\n",
    "    leaves=False\n",
    "    sent=False\n",
    "    once=False\n",
    "    \n",
    "\n",
    "    if 'add' in effect:\n",
    "        add=True\n",
    "    if 'banish' in effect:\n",
    "        banish=True\n",
    "    if 'negate' in effect:\n",
    "        negate=True\n",
    "    if 'destroy all' in effect:\n",
    "        des_all=True\n",
    "    if 'from deck' in effect:\n",
    "        search=True\n",
    "    if 'your gy' in effect:\n",
    "        recover=True\n",
    "    if 'leaves the field' in effect:\n",
    "        leaves=True\n",
    "    if 'sent' in effect or 'send' in effect:\n",
    "        sent=True\n",
    "    if 'once per turn' in effect:\n",
    "        once=True\n",
    "    single_card = {'name':card_data['name'],\n",
    "                'frame':card_data['frameType'],\n",
    "                'card_type':card_data['type'],\n",
    "                'sub_type':card_data['race'],\n",
    "                'cardmarket':card_data['card_prices'][0]['cardmarket_price'],\n",
    "                'tcgplayer':card_data['card_prices'][0]['tcgplayer_price'],\n",
    "                'word_count':len(card_data['desc'].split()),\n",
    "                'adds':add,\n",
    "                'banishes':banish,\n",
    "                'negates':negate,\n",
    "                'field_wipe':wipe,\n",
    "                'searches':search,\n",
    "                'recovers':recover,\n",
    "                'leave_field_trigger':leaves,\n",
    "                'send_trigger':sent,\n",
    "                'OPT':once,\n",
    "                'release':card_data['misc_info'][0]['ocg_date']}\n",
    "    cleaned_cards.append(single_card)\n",
    "print(len(cleaned_cards))\n",
    "print(cleaned_cards[0])"
   ]
  },
  {
   "cell_type": "code",
   "execution_count": null,
   "metadata": {},
   "outputs": [],
   "source": [
    "for i in cleaned_cards"
   ]
  },
  {
   "cell_type": "code",
   "execution_count": 78,
   "metadata": {},
   "outputs": [],
   "source": [
    "keys = cleaned_cards[0].keys()\n",
    "\n",
    "with open('staplesFinal.csv','w',encoding='utf8',newline='') as file:\n",
    "    dict_writer = csv.DictWriter(file,keys)\n",
    "    dict_writer.writeheader()\n",
    "    dict_writer.writerows(cleaned_cards)"
   ]
  },
  {
   "cell_type": "code",
   "execution_count": 32,
   "metadata": {},
   "outputs": [
    {
     "name": "stdout",
     "output_type": "stream",
     "text": [
      "{'name': 'Ash Blossom & Joyous Spring', 'frame': 'effect', 'card_type': 'Tuner Monster', 'sub_type': 'Zombie', 'cardmarket': '3.12', 'tcgplayer': '3.12', 'word_count': 64}\n"
     ]
    }
   ],
   "source": [
    "#quick check to see what counts as a staple these days\n",
    "for i in cleaned_cards:\n",
    "    if i['name']=='Ash Blossom & Joyous Spring':\n",
    "        print(i)\n",
    "    if i['name']=='Mystical Space Typhoon':\n",
    "        print(i)\n",
    "        \n",
    "# Mystical Space typhoon was a good card a long time ago, so this staple list is up to date\n",
    "        "
   ]
  },
  {
   "cell_type": "raw",
   "metadata": {},
   "source": [
    "To make some things easier, I will condense the monster cards into their own dataset since they are the most common card type by a landslide and can be further compared"
   ]
  },
  {
   "cell_type": "code",
   "execution_count": 58,
   "metadata": {},
   "outputs": [],
   "source": [
    "# Get all cards\n",
    "response=requests.get(\"https://db.ygoprodeck.com/api/v7/cardinfo.php?format=ocg\")"
   ]
  },
  {
   "cell_type": "code",
   "execution_count": 59,
   "metadata": {},
   "outputs": [],
   "source": [
    "cards = response.json()['data']"
   ]
  },
  {
   "cell_type": "code",
   "execution_count": 63,
   "metadata": {},
   "outputs": [],
   "source": [
    "cleaned_cards=[]\n",
    "for card_data in cards:\n",
    "    \n",
    "    # specify that I'm only looking at the monsters, and ignoring an outlier I discovered\n",
    "    if card_data['frameType'] != 'trap' and card_data['frameType'] != 'spell' and card_data['frameType'] != 'skill':\n",
    "        if card_data['frameType'] == 'link':\n",
    "            single_card = {'name':card_data['name'],\n",
    "                'frame':card_data['frameType'],\n",
    "                'card_type':card_data['type'],\n",
    "                'monster_type':card_data['race'],\n",
    "                'level':'L'+str(card_data['linkval']),\n",
    "                'attribute':card_data['attribute'],\n",
    "                'cardmarket':card_data['card_prices'][0]['cardmarket_price'],\n",
    "                'tcgplayer':card_data['card_prices'][0]['tcgplayer_price'],\n",
    "                'word_count':len(card_data['desc'].split())}\n",
    "                \n",
    "        else:    \n",
    "            single_card = {'name':card_data['name'],\n",
    "                'frame':card_data['frameType'],\n",
    "                'card_type':card_data['type'],\n",
    "                'monster_type':card_data['race'],\n",
    "                'level':card_data['level'],\n",
    "                'attribute':card_data['attribute'],                \n",
    "                'cardmarket':card_data['card_prices'][0]['cardmarket_price'],\n",
    "                'tcgplayer':card_data['card_prices'][0]['tcgplayer_price'],\n",
    "                'word_count':len(card_data['desc'].split()),\n",
    "                          }\n",
    "        \n",
    "        cleaned_cards.append(single_card)\n",
    "                "
   ]
  },
  {
   "cell_type": "code",
   "execution_count": 64,
   "metadata": {},
   "outputs": [
    {
     "name": "stdout",
     "output_type": "stream",
     "text": [
      "{'name': '7 Colored Fish', 'frame': 'normal', 'card_type': 'Normal Monster', 'monster_type': 'Fish', 'level': 4, 'attribute': 'WATER', 'cardmarket': '0.12', 'tcgplayer': '0.15', 'word_count': 12}\n"
     ]
    }
   ],
   "source": [
    "print(cleaned_cards[3])"
   ]
  },
  {
   "cell_type": "code",
   "execution_count": 65,
   "metadata": {},
   "outputs": [],
   "source": [
    "keys = cleaned_cards[0].keys()\n",
    "\n",
    "with open('monstersFinal.csv','w',encoding='utf8',newline='') as file:\n",
    "    dict_writer = csv.DictWriter(file,keys)\n",
    "    dict_writer.writeheader()\n",
    "    dict_writer.writerows(cleaned_cards)"
   ]
  },
  {
   "cell_type": "code",
   "execution_count": null,
   "metadata": {},
   "outputs": [],
   "source": []
  }
 ],
 "metadata": {
  "kernelspec": {
   "display_name": "Python 3",
   "language": "python",
   "name": "python3"
  },
  "language_info": {
   "codemirror_mode": {
    "name": "ipython",
    "version": 3
   },
   "file_extension": ".py",
   "mimetype": "text/x-python",
   "name": "python",
   "nbconvert_exporter": "python",
   "pygments_lexer": "ipython3",
   "version": "3.11.5"
  }
 },
 "nbformat": 4,
 "nbformat_minor": 2
}
